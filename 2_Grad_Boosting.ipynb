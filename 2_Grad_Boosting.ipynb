{
 "cells": [
  {
   "cell_type": "markdown",
   "metadata": {},
   "source": [
    "# SUPERVISED LEARNING"
   ]
  },
  {
   "cell_type": "markdown",
   "metadata": {},
   "source": [
    "# Gradient Boosting \n",
    "## Decision Trees\n",
    "## Mean Square Error\n",
    "## _by hand_"
   ]
  },
  {
   "cell_type": "markdown",
   "metadata": {},
   "source": [
    "We will need:\n",
    "- sklearn\n",
    "- matplotlib\n",
    "- numpy\n",
    "- xgboost"
   ]
  },
  {
   "cell_type": "markdown",
   "metadata": {},
   "source": [
    "We will use _boston dataset_ from sklearn.datasets library which has information related to home prices in Boston."
   ]
  },
  {
   "cell_type": "markdown",
   "metadata": {},
   "source": [
    "### Data Load"
   ]
  },
  {
   "cell_type": "code",
   "execution_count": 1,
   "metadata": {},
   "outputs": [
    {
     "name": "stdout",
     "output_type": "stream",
     "text": [
      "Populating the interactive namespace from numpy and matplotlib\n"
     ]
    }
   ],
   "source": [
    "%pylab inline"
   ]
  },
  {
   "cell_type": "code",
   "execution_count": 2,
   "metadata": {},
   "outputs": [],
   "source": [
    "from sklearn import model_selection, tree, metrics, ensemble"
   ]
  },
  {
   "cell_type": "code",
   "execution_count": 3,
   "metadata": {},
   "outputs": [
    {
     "name": "stdout",
     "output_type": "stream",
     "text": [
      "(506, 13)\n",
      "dict_keys(['data', 'target', 'feature_names', 'DESCR', 'filename'])\n",
      ".. _boston_dataset:\n",
      "\n",
      "Boston house prices dataset\n",
      "---------------------------\n",
      "\n",
      "**Data Set Characteristics:**  \n",
      "\n",
      "    :Number of Instances: 506 \n",
      "\n",
      "    :Number of Attributes: 13 numeric/categorical predictive. Median Value (attribute 14) is usually the target.\n",
      "\n",
      "    :Attribute Information (in order):\n",
      "        - CRIM     per capita crime rate by town\n",
      "        - ZN       proportion of residential land zoned for lots over 25,000 sq.ft.\n",
      "        - INDUS    proportion of non-retail business acres per town\n",
      "        - CHAS     Charles River dummy variable (= 1 if tract bounds river; 0 otherwise)\n",
      "        - NOX      nitric oxides concentration (parts per 10 million)\n",
      "        - RM       average number of rooms per dwelling\n",
      "        - AGE      proportion of owner-occupied units built prior to 1940\n",
      "        - DIS      weighted distances to five Boston employment centres\n",
      "        - RAD      index of accessibility to radial highways\n",
      "        - TAX      full-value property-tax rate per $10,000\n",
      "        - PTRATIO  pupil-teacher ratio by town\n",
      "        - B        1000(Bk - 0.63)^2 where Bk is the proportion of blacks by town\n",
      "        - LSTAT    % lower status of the population\n",
      "        - MEDV     Median value of owner-occupied homes in $1000's\n",
      "\n",
      "    :Missing Attribute Values: None\n",
      "\n",
      "    :Creator: Harrison, D. and Rubinfeld, D.L.\n",
      "\n",
      "This is a copy of UCI ML housing dataset.\n",
      "https://archive.ics.uci.edu/ml/machine-learning-databases/housing/\n",
      "\n",
      "\n",
      "This dataset was taken from the StatLib library which is maintained at Carnegie Mellon University.\n",
      "\n",
      "The Boston house-price data of Harrison, D. and Rubinfeld, D.L. 'Hedonic\n",
      "prices and the demand for clean air', J. Environ. Economics & Management,\n",
      "vol.5, 81-102, 1978.   Used in Belsley, Kuh & Welsch, 'Regression diagnostics\n",
      "...', Wiley, 1980.   N.B. Various transformations are used in the table on\n",
      "pages 244-261 of the latter.\n",
      "\n",
      "The Boston house-price data has been used in many machine learning papers that address regression\n",
      "problems.   \n",
      "     \n",
      ".. topic:: References\n",
      "\n",
      "   - Belsley, Kuh & Welsch, 'Regression diagnostics: Identifying Influential Data and Sources of Collinearity', Wiley, 1980. 244-261.\n",
      "   - Quinlan,R. (1993). Combining Instance-Based and Model-Based Learning. In Proceedings on the Tenth International Conference of Machine Learning, 236-243, University of Massachusetts, Amherst. Morgan Kaufmann.\n",
      "\n"
     ]
    }
   ],
   "source": [
    "from sklearn.datasets import load_boston\n",
    "boston = load_boston()\n",
    "print(boston.data.shape)\n",
    "print(boston.keys())\n",
    "print(boston.DESCR)"
   ]
  },
  {
   "cell_type": "code",
   "execution_count": 4,
   "metadata": {},
   "outputs": [
    {
     "data": {
      "text/plain": [
       "(506,)"
      ]
     },
     "execution_count": 4,
     "metadata": {},
     "output_type": "execute_result"
    }
   ],
   "source": [
    "X = boston.data\n",
    "X.shape\n",
    "y = boston.target\n",
    "y.shape"
   ]
  },
  {
   "cell_type": "code",
   "execution_count": 5,
   "metadata": {},
   "outputs": [],
   "source": [
    "# 75% train, 25% test\n",
    "X_train, X_test, y_train, y_test = model_selection.train_test_split(X, y, test_size = 0.25, random_state = 1)"
   ]
  },
  {
   "cell_type": "markdown",
   "metadata": {},
   "source": [
    "**Boosting** is a method of compositions constructed on basic algorithms by successively adding a new algorithm to the current composition with a certain coefficient.\n",
    "\n",
    "Gradient Boosting trains each new algorithm so that it approximates the anti-gradient error by composition responses on the training set. Similar to minimizing functions using the gradient descent method, in gradient boosting we correct composition, changing the algorithm towards antigradient error."
   ]
  },
  {
   "cell_type": "markdown",
   "metadata": {},
   "source": [
    "Using the formula that defines the answers on the training sample for which we need to train the new algorithm (in fact, this is just a slightly more detailed gradient from the error), we can get its special case if the loss function _L_ is the  squared response deviation of the composition _a(x)_ from the correct answer _y_:"
   ]
  },
  {
   "cell_type": "markdown",
   "metadata": {
    "collapsed": true
   },
   "source": [
    "Loss function:   $$L(a(x)) = (a(x)-y)^2$$\n",
    "\n",
    "Displacement:  $$L'(a(x)) = 2(a(x) - y)$$\n",
    "\n",
    "The coefficient = _2_ could be ignored, because we still have to choose a coefficient with which a new basic algorithm will be added."
   ]
  },
  {
   "cell_type": "markdown",
   "metadata": {},
   "source": [
    "### 1. Learning algorithm building"
   ]
  },
  {
   "cell_type": "markdown",
   "metadata": {},
   "source": [
    "Let's get arrays for _DecisionTreeRegressor_ objects (we will use them as basic algorithms) and for real numbers (these will be the coefficients before the basic algorithms).\n",
    "\n",
    "Then, we train 50 decision trees in sequence with _max_depth = 5_. In Boosting it is often used hundreds and thousands of trees, but we are limited to 50, so the algorithm can work faster, and makes it easier to debug. Each tree must be trained on the same set of objects, but the answers that the tree learns to predict will change in accordance with the rule obtained in the formula before.\n",
    "\n",
    "Let's start from coefficient equal to 0.9 always. It is usually justified to choose a coefficient much smaller - of the order of 0.05 or 0.1, but since in our case study there will be only 50 trees, for a start we take a larger step."
   ]
  },
  {
   "cell_type": "markdown",
   "metadata": {},
   "source": [
    "During the learning, we will need a function that will calculate the forecast of the currently constructed composition of trees on the sample _X_ (it will work both for train and test samples):"
   ]
  },
  {
   "cell_type": "code",
   "execution_count": 6,
   "metadata": {},
   "outputs": [],
   "source": [
    "def gbm_predict(X):\n",
    "    return [sum([coeff * algoritm.predict([x])[0] for algoritm, coeff in zip(base_algor_list, coef_list)]) for x in X]"
   ]
  },
  {
   "cell_type": "code",
   "execution_count": 7,
   "metadata": {},
   "outputs": [
    {
     "name": "stdout",
     "output_type": "stream",
     "text": [
      "Time:  30.580412455999976\n"
     ]
    }
   ],
   "source": [
    "# Learning\n",
    "\n",
    "base_algor_list = []\n",
    "coef_list = []\n",
    "dsp = y_train     # displacement\n",
    "N = 50     # number od trees\n",
    "\n",
    "import timeit\n",
    "start = timeit.default_timer()\n",
    "\n",
    "for i in range(0, N):\n",
    "    regressor = tree.DecisionTreeRegressor(max_depth = 5, random_state = 42)\n",
    "    regressor.fit(X_train, dsp)\n",
    "    coef_list.append(0.9)\n",
    "    base_algor_list.append(regressor)\n",
    "    dsp = y_train - gbm_predict(X_train)     # y - displacement\n",
    "    \n",
    "print('Time: ', timeit.default_timer() - start)"
   ]
  },
  {
   "cell_type": "code",
   "execution_count": 8,
   "metadata": {},
   "outputs": [
    {
     "name": "stdout",
     "output_type": "stream",
     "text": [
      "RSME:  3.8430045851125367\n"
     ]
    }
   ],
   "source": [
    "# Test\n",
    "\n",
    "y_pred = gbm_predict(X_test)\n",
    "print('RSME: ', (metrics.mean_squared_error(y_test, y_pred))**0.5)"
   ]
  },
  {
   "cell_type": "markdown",
   "metadata": {},
   "source": [
    "### 2.  Algorithm improvement"
   ]
  },
  {
   "cell_type": "markdown",
   "metadata": {},
   "source": [
    "We may also be concerned that moving with a constant step, near the minimum of the error, the answers on the training set change too sharply, jumping over the minimum. Therefore, we can reduce the weight of each algorithm before each following iteration by using the next proportion:\n",
    "\n",
    "$$0.9 / (1.0 + i)$$\n",
    "where _i_ - current iteration number"
   ]
  },
  {
   "cell_type": "code",
   "execution_count": 9,
   "metadata": {},
   "outputs": [
    {
     "name": "stdout",
     "output_type": "stream",
     "text": [
      "Time:  33.26968969599989\n"
     ]
    }
   ],
   "source": [
    "# Learning\n",
    "\n",
    "base_algorithms_list = []\n",
    "coef_list = []\n",
    "dsp = y_train\n",
    "N = 50\n",
    "\n",
    "import timeit\n",
    "start = timeit.default_timer()\n",
    "\n",
    "for i in range(0, N):\n",
    "    regressor = tree.DecisionTreeRegressor(max_depth = 5, random_state = 42)\n",
    "    regressor.fit(X_train, dsp)\n",
    "    coef_list.append(0.9/(1+i))\n",
    "    base_algor_list.append(regressor)\n",
    "    dsp = y_train - gbm_predict(X_train)    \n",
    "    \n",
    "print('Time: ', timeit.default_timer() - start)"
   ]
  },
  {
   "cell_type": "code",
   "execution_count": 10,
   "metadata": {},
   "outputs": [
    {
     "name": "stdout",
     "output_type": "stream",
     "text": [
      "RSME:  3.397676017995277\n"
     ]
    }
   ],
   "source": [
    "# Test\n",
    "\n",
    "y_pred = gbm_predict(X_test)\n",
    "print('RSME: ', (metrics.mean_squared_error(y_test, y_pred))**0.5)"
   ]
  },
  {
   "cell_type": "markdown",
   "metadata": {},
   "source": [
    "### 3. XGBoost"
   ]
  },
  {
   "cell_type": "markdown",
   "metadata": {},
   "source": [
    "Gradient Boosting method is very popular method in Machine Learning. Let's use one that is presented in a third-party library: _XGBoost_. Also, we could use _GradientBoostingRegressor_ from sklearn, but in practice, _XGBoost_ works noticeably better.\n",
    "\n",
    "Let's perform the _XGBoost_ method and observe, whether Gradient Boosting is overfitting with the increase of numbers of iterations (number of trees), as well as with increase of the depth of trees."
   ]
  },
  {
   "cell_type": "code",
   "execution_count": 12,
   "metadata": {},
   "outputs": [],
   "source": [
    "import xgboost as xgb\n",
    "import numpy as np"
   ]
  },
  {
   "cell_type": "markdown",
   "metadata": {},
   "source": [
    "### n_trees"
   ]
  },
  {
   "cell_type": "code",
   "execution_count": 13,
   "metadata": {},
   "outputs": [
    {
     "data": {
      "text/plain": [
       "(14,)"
      ]
     },
     "execution_count": 13,
     "metadata": {},
     "output_type": "execute_result"
    }
   ],
   "source": [
    "n_trees = np.arange(10, 150, 10)\n",
    "xgb_scoring = np.zeros(n_trees.shape[0])\n",
    "xgb_scoring_train = np.zeros(n_trees.shape[0])\n",
    "\n",
    "xgb_scoring.shape"
   ]
  },
  {
   "cell_type": "code",
   "execution_count": 14,
   "metadata": {},
   "outputs": [
    {
     "name": "stdout",
     "output_type": "stream",
     "text": [
      "CPU times: user 715 ms, sys: 5 ms, total: 720 ms\n",
      "Wall time: 726 ms\n"
     ]
    }
   ],
   "source": [
    "%%time\n",
    "i = 0\n",
    "for n in n_trees:\n",
    "    xgb_R = xgb.XGBRegressor(learning_rate=0.1, max_depth=5, n_estimators=n, verbosity=0)\n",
    "    xgb_R.fit(X_train, y_train)\n",
    "    y_pred_train = xgb_R.predict(X_train)\n",
    "    y_pred = xgb_R.predict(X_test)\n",
    "    mse = metrics.mean_squared_error(y_test, y_pred)\n",
    "    xgb_scoring[i] = mse\n",
    "    mse_train = metrics.mean_squared_error(y_train, y_pred_train)\n",
    "    xgb_scoring_train[i] = mse_train\n",
    "    i = i+1 "
   ]
  },
  {
   "cell_type": "code",
   "execution_count": 15,
   "metadata": {},
   "outputs": [],
   "source": [
    "#print(sorted(metrics.SCORERS.keys()))"
   ]
  },
  {
   "cell_type": "code",
   "execution_count": 16,
   "metadata": {
    "scrolled": true
   },
   "outputs": [
    {
     "data": {
      "text/plain": [
       "<matplotlib.legend.Legend at 0x1a1bacc090>"
      ]
     },
     "execution_count": 16,
     "metadata": {},
     "output_type": "execute_result"
    },
    {
     "data": {
      "image/png": "[encoded data removed]",
      "text/plain": [
       "<Figure size 432x288 with 1 Axes>"
      ]
     },
     "metadata": {
      "needs_background": "light"
     },
     "output_type": "display_data"
    }
   ],
   "source": [
    "pylab.grid(True)\n",
    "pylab.plot(n_trees, xgb_scoring, 'r-', marker='o', label='test')\n",
    "pylab.plot(n_trees, xgb_scoring_train, 'g-', marker='o', label='train')\n",
    "pylab.title('GBR')\n",
    "pylab.xlabel('n_trees')\n",
    "pylab.ylabel('MSE')\n",
    "pylab.legend(loc='upper right')"
   ]
  },
  {
   "cell_type": "markdown",
   "metadata": {},
   "source": [
    "As we increase the number of trees, it gets to a point where the quality of Gradient Boosting does not change significantly."
   ]
  },
  {
   "cell_type": "markdown",
   "metadata": {},
   "source": [
    "### n_depth"
   ]
  },
  {
   "cell_type": "code",
   "execution_count": 17,
   "metadata": {},
   "outputs": [
    {
     "data": {
      "text/plain": [
       "array([ 2,  4,  6,  8, 10, 12, 14, 16])"
      ]
     },
     "execution_count": 17,
     "metadata": {},
     "output_type": "execute_result"
    }
   ],
   "source": [
    "n_depth = np.arange(2, 17, 2)  \n",
    "xgb_scoring = np.zeros(n_depth.shape[0])\n",
    "xgb_scoring_train = np.zeros(n_depth.shape[0])\n",
    "xgb_scoring.shape\n",
    "n_depth"
   ]
  },
  {
   "cell_type": "code",
   "execution_count": 18,
   "metadata": {},
   "outputs": [
    {
     "name": "stdout",
     "output_type": "stream",
     "text": [
      "CPU times: user 847 ms, sys: 5 ms, total: 852 ms\n",
      "Wall time: 855 ms\n"
     ]
    }
   ],
   "source": [
    "%%time\n",
    "i = 0\n",
    "for n in n_depth:\n",
    "    xgb_R = xgb.XGBRegressor(learning_rate=0.1, max_depth=n, n_estimators=100, verbosity=0)\n",
    "    xgb_R.fit(X_train, y_train)\n",
    "    y_pred_train = xgb_R.predict(X_train)\n",
    "    y_pred = xgb_R.predict(X_test)\n",
    "    mse = metrics.mean_squared_error(y_test, y_pred)\n",
    "    xgb_scoring[i] = mse\n",
    "    mse_train = metrics.mean_squared_error(y_train, y_pred_train)\n",
    "    xgb_scoring_train[i] = mse_train\n",
    "    i = i+1 "
   ]
  },
  {
   "cell_type": "code",
   "execution_count": 19,
   "metadata": {},
   "outputs": [
    {
     "data": {
      "text/plain": [
       "<matplotlib.legend.Legend at 0x1a1bbcfd50>"
      ]
     },
     "execution_count": 19,
     "metadata": {},
     "output_type": "execute_result"
    },
    {
     "data": {
      "image/png": "[encoded data removed]",
      "text/plain": [
       "<Figure size 432x288 with 1 Axes>"
      ]
     },
     "metadata": {
      "needs_background": "light"
     },
     "output_type": "display_data"
    }
   ],
   "source": [
    "pylab.grid(True)\n",
    "pylab.plot(n_depth, xgb_scoring, 'r-', marker='o', label='test')\n",
    "pylab.plot(n_depth, xgb_scoring_train, 'g-', marker='o', label='train')\n",
    "pylab.title('GBR')\n",
    "pylab.xlabel('n_depth')\n",
    "pylab.ylabel('MSE')\n",
    "pylab.legend(loc='lower left')"
   ]
  },
  {
   "cell_type": "markdown",
   "metadata": {},
   "source": [
    "In the same manner, as we increase the number of depths of trees, it also gets to a point where the quality of Gradient Boosting on a test sample begins to deteriorate (the optimum depth for this dataset is about 4...8)."
   ]
  },
  {
   "cell_type": "markdown",
   "metadata": {},
   "source": [
    "### 4. Gradient Boosting Vs Lineal Regression"
   ]
  },
  {
   "cell_type": "markdown",
   "metadata": {},
   "source": [
    "It will be interesting to compare the results of Gradient Boosting method with other classificator. "
   ]
  },
  {
   "cell_type": "code",
   "execution_count": 20,
   "metadata": {},
   "outputs": [
    {
     "name": "stdout",
     "output_type": "stream",
     "text": [
      "RSME:  2.785102409181636\n"
     ]
    }
   ],
   "source": [
    "xgb_R = xgb.XGBRegressor(learning_rate=0.1, max_depth=8, n_estimators=100, verbosity=0)\n",
    "xgb_R.fit(X_train, y_train)\n",
    "y_pred = xgb_R.predict(X_test)\n",
    "mse = metrics.mean_squared_error(y_test, y_pred)\n",
    "print('RSME: ', (metrics.mean_squared_error(y_test, y_pred))**0.5)"
   ]
  },
  {
   "cell_type": "code",
   "execution_count": 21,
   "metadata": {},
   "outputs": [
    {
     "name": "stdout",
     "output_type": "stream",
     "text": [
      "RSME:  4.679504823808757\n"
     ]
    }
   ],
   "source": [
    "from sklearn import linear_model\n",
    "lin_R = linear_model.LinearRegression()\n",
    "lin_R.fit(X_train, y_train)\n",
    "y_pred = lin_R.predict(X_test)\n",
    "print('RSME: ', (metrics.mean_squared_error(y_test, y_pred))**0.5)"
   ]
  },
  {
   "cell_type": "markdown",
   "metadata": {},
   "source": [
    "In this example, the performance of a simple model has been worse, but do not forget that is not always the case."
   ]
  }
 ],
 "metadata": {
  "kernelspec": {
   "display_name": "Python 3",
   "language": "python",
   "name": "python3"
  },
  "language_info": {
   "codemirror_mode": {
    "name": "ipython",
    "version": 3
   },
   "file_extension": ".py",
   "mimetype": "text/x-python",
   "name": "python",
   "nbconvert_exporter": "python",
   "pygments_lexer": "ipython3",
   "version": "3.7.4"
  }
 },
 "nbformat": 4,
 "nbformat_minor": 1
}
